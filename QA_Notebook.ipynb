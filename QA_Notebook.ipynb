{
 "cells": [
  {
   "cell_type": "code",
   "execution_count": 1,
   "id": "3f4306ce",
   "metadata": {},
   "outputs": [
    {
     "data": {
      "text/plain": [
       "(     login                name          company            location  \\\n",
       " 0  midudev  Miguel Ángel Durán              NaN           Barcelona   \n",
       " 1       ai       Andrey Sitnik     EVILMARTIANS    Barcelona, Spain   \n",
       " 2  raysan5                 Ray       RAYLIBTECH           Barcelona   \n",
       " 3  vfarcic       Viktor Farcic          UPBOUND    Barcelona, Spain   \n",
       " 4    spite       Jaume Sanchez  GOOGLE-DEEPMIND  London · Barcelona   \n",
       " \n",
       "                       email  hireable  \\\n",
       " 0          miduga@gmail.com     False   \n",
       " 1          andrey@sitnik.ru     False   \n",
       " 2         raysan5@gmail.com      True   \n",
       " 3         viktor@farcic.com     False   \n",
       " 4  hello@clicktorelease.com     False   \n",
       " \n",
       "                                                  bio  public_repos  followers  \\\n",
       " 0  Te enseño Programación y Desarrollo Web. Cread...           194      28286   \n",
       " 1  The creator of Autoprefixer, @postcss, @browse...            85       9155   \n",
       " 2  I make tools and technology for videogames dev...            26       3571   \n",
       " 3                        Developer Advocate @Upbound           451       2975   \n",
       " 4              Web Dev, pixel burner - WebGL · WebXR           135       2547   \n",
       " \n",
       "    following            created_at  \n",
       " 0          2  2012-03-21T18:31:36Z  \n",
       " 1        139  2008-08-02T16:34:20Z  \n",
       " 2        272  2013-10-24T15:41:54Z  \n",
       " 3          0  2013-10-18T07:28:17Z  \n",
       " 4          0  2011-04-15T16:00:06Z  ,\n",
       "      login                      full_name            created_at  \\\n",
       " 0  midudev         midudev/accordion-menu  2018-10-08T13:41:57Z   \n",
       " 1  midudev             midudev/actas-2024  2024-08-01T15:04:40Z   \n",
       " 2  midudev        midudev/adventjs-issues  2021-12-01T15:27:21Z   \n",
       " 3  midudev  midudev/algolia-pwa-ecommerce  2022-01-03T20:17:22Z   \n",
       " 4  midudev             midudev/ant-design  2018-09-13T15:08:22Z   \n",
       " \n",
       "    stargazers_count  watchers_count    language  has_projects  has_wiki  \\\n",
       " 0                 2               2  JavaScript          True      True   \n",
       " 1                42              42         NaN          True      True   \n",
       " 2                33              33         NaN          True      True   \n",
       " 3                24              24  TypeScript          True      True   \n",
       " 4                 2               2  TypeScript          True      True   \n",
       " \n",
       "   license_name  \n",
       " 0          NaN  \n",
       " 1          NaN  \n",
       " 2          NaN  \n",
       " 3          mit  \n",
       " 4          mit  )"
      ]
     },
     "execution_count": 1,
     "metadata": {},
     "output_type": "execute_result"
    }
   ],
   "source": [
    "\n",
    "import pandas as pd\n",
    "import numpy as np\n",
    "from scipy.stats import pearsonr\n",
    "from sklearn.linear_model import LinearRegression\n",
    "import matplotlib.pyplot as plt\n",
    "import seaborn as sns\n",
    "\n",
    "# Load the datasets\n",
    "users = pd.read_csv(\"users.csv\")\n",
    "repos = pd.read_csv(\"repositories.csv\")\n",
    "users.head(), repos.head()\n"
   ]
  },
  {
   "cell_type": "code",
   "execution_count": 2,
   "id": "21203b62",
   "metadata": {},
   "outputs": [
    {
     "data": {
      "text/plain": [
       "'midudev,ai,raysan5,vfarcic,spite'"
      ]
     },
     "execution_count": 2,
     "metadata": {},
     "output_type": "execute_result"
    }
   ],
   "source": [
    "\n",
    "# Q1: Who are the top 5 users in Barcelona with the highest number of followers?\n",
    "top_5_users = users.nlargest(5, 'followers')[['login']]\n",
    "top_5_users_list = \",\".join(top_5_users['login'].tolist())\n",
    "top_5_users_list\n"
   ]
  },
  {
   "cell_type": "code",
   "execution_count": 3,
   "id": "c9e568ef",
   "metadata": {},
   "outputs": [
    {
     "data": {
      "text/plain": [
       "'oleganza,gravityblast,fesplugas,fxn,pauek'"
      ]
     },
     "execution_count": 3,
     "metadata": {},
     "output_type": "execute_result"
    }
   ],
   "source": [
    "\n",
    "# Q2: Who are the 5 earliest registered GitHub users in Barcelona?\n",
    "# Convert 'created_at' column to datetime\n",
    "users['created_at'] = pd.to_datetime(users['created_at'], errors='coerce')\n",
    "\n",
    "# Q2: Who are the 5 earliest registered GitHub users in Barcelona?\n",
    "earliest_users = users.nsmallest(5, 'created_at')[['login']]\n",
    "earliest_users_list = \",\".join(earliest_users['login'].tolist())\n",
    "earliest_users_list\n"
   ]
  },
  {
   "cell_type": "code",
   "execution_count": 4,
   "id": "3cfa11d6",
   "metadata": {},
   "outputs": [
    {
     "data": {
      "text/plain": [
       "'mit,apache-2.0,other'"
      ]
     },
     "execution_count": 4,
     "metadata": {},
     "output_type": "execute_result"
    }
   ],
   "source": [
    "\n",
    "# Q3: What are the 3 most popular licenses among these users?\n",
    "top_licenses = repos['license_name'].value_counts().head(3).index.tolist()\n",
    "top_licenses_list = \",\".join(top_licenses)\n",
    "top_licenses_list\n"
   ]
  },
  {
   "cell_type": "code",
   "execution_count": 5,
   "id": "4de40afc",
   "metadata": {},
   "outputs": [
    {
     "data": {
      "text/plain": [
       "'FREELANCE'"
      ]
     },
     "execution_count": 5,
     "metadata": {},
     "output_type": "execute_result"
    }
   ],
   "source": [
    "\n",
    "# Q4: Which company do the majority of these developers work at?\n",
    "majority_company = users['company'].mode().iloc[0]\n",
    "majority_company\n"
   ]
  },
  {
   "cell_type": "code",
   "execution_count": 6,
   "id": "7d2e0956",
   "metadata": {},
   "outputs": [
    {
     "data": {
      "text/plain": [
       "'JavaScript'"
      ]
     },
     "execution_count": 6,
     "metadata": {},
     "output_type": "execute_result"
    }
   ],
   "source": [
    "\n",
    "# Q5: Which programming language is most popular among these users?\n",
    "most_popular_language = repos['language'].mode().iloc[0]\n",
    "most_popular_language\n"
   ]
  },
  {
   "cell_type": "code",
   "execution_count": 7,
   "id": "96de3a38",
   "metadata": {},
   "outputs": [
    {
     "data": {
      "text/plain": [
       "'TypeScript'"
      ]
     },
     "execution_count": 7,
     "metadata": {},
     "output_type": "execute_result"
    }
   ],
   "source": [
    "\n",
    "# Q6: Which programming language is the second most popular among users who joined after 2020?\n",
    "language_after_2020 = repos[repos['created_at'] > '2020-01-01']['language'].value_counts().index[1]\n",
    "language_after_2020\n"
   ]
  },
  {
   "cell_type": "code",
   "execution_count": 8,
   "id": "5797d14f",
   "metadata": {},
   "outputs": [
    {
     "data": {
      "text/plain": [
       "'Vim Script'"
      ]
     },
     "execution_count": 8,
     "metadata": {},
     "output_type": "execute_result"
    }
   ],
   "source": [
    "\n",
    "# Q7: Which language has the highest average number of stars per repository?\n",
    "highest_avg_stars_language = repos.groupby('language')['stargazers_count'].mean().idxmax()\n",
    "highest_avg_stars_language\n"
   ]
  },
  {
   "cell_type": "code",
   "execution_count": 9,
   "id": "2b0be38a",
   "metadata": {},
   "outputs": [
    {
     "data": {
      "text/plain": [
       "'midudev,vfarcic,spite,amix,cfenollosa'"
      ]
     },
     "execution_count": 9,
     "metadata": {},
     "output_type": "execute_result"
    }
   ],
   "source": [
    "\n",
    "# Q8: Define leader_strength and find the top 5 users\n",
    "users['leader_strength'] = users['followers'] / (1 + users['following'])\n",
    "top_leader_strength = users.nlargest(5, 'leader_strength')['login'].tolist()\n",
    "\",\".join(top_leader_strength)\n"
   ]
  },
  {
   "cell_type": "code",
   "execution_count": 10,
   "id": "f565485a",
   "metadata": {},
   "outputs": [
    {
     "data": {
      "text/plain": [
       "0.071"
      ]
     },
     "execution_count": 10,
     "metadata": {},
     "output_type": "execute_result"
    }
   ],
   "source": [
    "\n",
    "# Q9: Correlation between the number of followers and the number of public repositories\n",
    "correlation, _ = pearsonr(users['followers'], users['public_repos'])\n",
    "round(correlation, 3)\n"
   ]
  },
  {
   "cell_type": "code",
   "execution_count": 11,
   "id": "f2a4374c",
   "metadata": {},
   "outputs": [
    {
     "data": {
      "text/plain": [
       "1.031"
      ]
     },
     "execution_count": 11,
     "metadata": {},
     "output_type": "execute_result"
    }
   ],
   "source": [
    "\n",
    "# Q10: Linear regression slope of followers on repos\n",
    "X = users[['public_repos']]\n",
    "y = users['followers']\n",
    "reg = LinearRegression().fit(X, y)\n",
    "slope = round(reg.coef_[0], 3)\n",
    "slope\n"
   ]
  },
  {
   "cell_type": "code",
   "execution_count": 12,
   "id": "9ddaf276",
   "metadata": {},
   "outputs": [
    {
     "name": "stdout",
     "output_type": "stream",
     "text": [
      "0.317\n"
     ]
    }
   ],
   "source": [
    "if repos['has_projects'].dtype == 'object':\n",
    "    repos['has_projects'] = repos['has_projects'].map({'true': True, 'false': False})\n",
    "if repos['has_wiki'].dtype == 'object':\n",
    "    repos['has_wiki'] = repos['has_wiki'].map({'true': True, 'false': False})\n",
    "    \n",
    "correlation = repos['has_projects'].corr(repos['has_wiki'])\n",
    "    \n",
    "print(round(correlation, 3))"
   ]
  },
  {
   "cell_type": "code",
   "execution_count": 13,
   "id": "c6ea5cca",
   "metadata": {},
   "outputs": [
    {
     "data": {
      "text/plain": [
       "294.6677803379416"
      ]
     },
     "execution_count": 13,
     "metadata": {},
     "output_type": "execute_result"
    }
   ],
   "source": [
    "\n",
    "# Q12: Average following difference between hireable and non-hireable users\n",
    "hireable_avg_following = users[users['hireable'] == True]['following'].mean()\n",
    "non_hireable_avg_following = users[users['hireable'] == False]['following'].mean()\n",
    "difference = hireable_avg_following - non_hireable_avg_following\n",
    "difference\n"
   ]
  },
  {
   "cell_type": "code",
   "execution_count": 14,
   "id": "7ac0abbe",
   "metadata": {},
   "outputs": [
    {
     "data": {
      "text/plain": [
       "1.716"
      ]
     },
     "execution_count": 14,
     "metadata": {},
     "output_type": "execute_result"
    }
   ],
   "source": [
    "\n",
    "# Q13: Correlation of bio length with followers\n",
    "from sklearn.linear_model import LinearRegression\n",
    "users_with_bio = users[(users['bio'].notna()) & (users['bio'] != '')].copy()\n",
    "users_with_bio.loc[:, 'bio_len'] = users_with_bio['bio'].str.len()\n",
    "\n",
    "X = users_with_bio['bio_len'].values.reshape(-1,1)\n",
    "y = users_with_bio['followers']\n",
    "\n",
    "lr2 = LinearRegression()\n",
    "lr2.fit(X, y)\n",
    "round(lr2.coef_[0], 3)\n"
   ]
  },
  {
   "cell_type": "code",
   "execution_count": 15,
   "id": "ad3cb54c",
   "metadata": {},
   "outputs": [
    {
     "name": "stdout",
     "output_type": "stream",
     "text": [
      "nilportugues,kinow,ajsb85,vfarcic,wlsf82\n"
     ]
    }
   ],
   "source": [
    "\n",
    "# Q14: Most repositories created on weekends\n",
    "import csv\n",
    "from collections import Counter\n",
    "from datetime import datetime\n",
    "\n",
    "weekend_repo_counts = Counter()\n",
    "\n",
    "with open('repositories.csv', 'r', encoding='utf-8') as file:\n",
    "    reader = csv.DictReader(file)\n",
    "    \n",
    "    for row in reader:\n",
    "        created_at = row.get('created_at', '')\n",
    "        if created_at:\n",
    "            created_date = datetime.fromisoformat(created_at[:-1])  \n",
    "            \n",
    "            if created_date.weekday() in [5, 6]:\n",
    "                user_login = row['login']\n",
    "                weekend_repo_counts[user_login] += 1  \n",
    "\n",
    "top_users = weekend_repo_counts.most_common(5)\n",
    "\n",
    "top_logins = [user[0] for user in top_users]\n",
    "\n",
    "print(','.join(top_logins))\n"
   ]
  },
  {
   "cell_type": "code",
   "execution_count": 16,
   "id": "07150ca4",
   "metadata": {},
   "outputs": [
    {
     "data": {
      "text/plain": [
       "0.09750384024577574"
      ]
     },
     "execution_count": 16,
     "metadata": {},
     "output_type": "execute_result"
    }
   ],
   "source": [
    "\n",
    "# Q15: Difference in email sharing between hireable and non-hireable users\n",
    "fraction_hierable = users[users['hireable'] == True]['email'].notna().mean()\n",
    "fraction_non_hierable = users[users['hireable'] == False]['email'].notna().mean()\n",
    "diff = fraction_hierable - fraction_non_hierable\n",
    "diff\n"
   ]
  },
  {
   "cell_type": "code",
   "execution_count": 17,
   "id": "2d3ca813",
   "metadata": {},
   "outputs": [
    {
     "name": "stdout",
     "output_type": "stream",
     "text": [
      "Martínez,Ortiz\n"
     ]
    }
   ],
   "source": [
    "\n",
    "# Q16: Most common surname among users\n",
    "new_users = users[users['name'].notna()].copy()\n",
    "new_users['surname'] = new_users['name'].str.split().str[-1].str.strip()\n",
    "surname_counts = new_users['surname'].value_counts()\n",
    "max_count = surname_counts.max()\n",
    "common_surnames = surname_counts[surname_counts == max_count].index.tolist()\n",
    "common_surnames.sort()\n",
    "print(','.join(common_surnames))\n"
   ]
  }
 ],
 "metadata": {
  "kernelspec": {
   "display_name": "base",
   "language": "python",
   "name": "python3"
  },
  "language_info": {
   "codemirror_mode": {
    "name": "ipython",
    "version": 3
   },
   "file_extension": ".py",
   "mimetype": "text/x-python",
   "name": "python",
   "nbconvert_exporter": "python",
   "pygments_lexer": "ipython3",
   "version": "3.12.4"
  }
 },
 "nbformat": 4,
 "nbformat_minor": 5
}
