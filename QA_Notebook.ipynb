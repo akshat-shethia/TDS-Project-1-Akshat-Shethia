{
 "cells": [
  {
   "cell_type": "code",
   "execution_count": 24,
   "id": "3f4306ce",
   "metadata": {},
   "outputs": [
    {
     "data": {
      "text/plain": [
       "(     login                name          company            location  \\\n",
       " 0  midudev  Miguel Ángel Durán              NaN           Barcelona   \n",
       " 1       ai       Andrey Sitnik     EVILMARTIANS    Barcelona, Spain   \n",
       " 2  raysan5                 Ray       RAYLIBTECH           Barcelona   \n",
       " 3  vfarcic       Viktor Farcic          UPBOUND    Barcelona, Spain   \n",
       " 4    spite       Jaume Sanchez  GOOGLE-DEEPMIND  London · Barcelona   \n",
       " \n",
       "                       email  hireable  \\\n",
       " 0          miduga@gmail.com     False   \n",
       " 1          andrey@sitnik.ru     False   \n",
       " 2         raysan5@gmail.com      True   \n",
       " 3         viktor@farcic.com     False   \n",
       " 4  hello@clicktorelease.com     False   \n",
       " \n",
       "                                                  bio  public_repos  followers  \\\n",
       " 0  Te enseño Programación y Desarrollo Web. Cread...           194      28286   \n",
       " 1  The creator of Autoprefixer, @postcss, @browse...            85       9155   \n",
       " 2  I make tools and technology for videogames dev...            26       3571   \n",
       " 3                        Developer Advocate @Upbound           451       2975   \n",
       " 4              Web Dev, pixel burner - WebGL · WebXR           135       2547   \n",
       " \n",
       "    following            created_at  \n",
       " 0          2  2012-03-21T18:31:36Z  \n",
       " 1        139  2008-08-02T16:34:20Z  \n",
       " 2        272  2013-10-24T15:41:54Z  \n",
       " 3          0  2013-10-18T07:28:17Z  \n",
       " 4          0  2011-04-15T16:00:06Z  ,\n",
       "      login                      full_name            created_at  \\\n",
       " 0  midudev         midudev/accordion-menu  2018-10-08T13:41:57Z   \n",
       " 1  midudev             midudev/actas-2024  2024-08-01T15:04:40Z   \n",
       " 2  midudev        midudev/adventjs-issues  2021-12-01T15:27:21Z   \n",
       " 3  midudev  midudev/algolia-pwa-ecommerce  2022-01-03T20:17:22Z   \n",
       " 4  midudev             midudev/ant-design  2018-09-13T15:08:22Z   \n",
       " \n",
       "    stargazers_count  watchers_count    language  has_projects  has_wiki  \\\n",
       " 0                 2               2  JavaScript          True      True   \n",
       " 1                42              42         NaN          True      True   \n",
       " 2                33              33         NaN          True      True   \n",
       " 3                24              24  TypeScript          True      True   \n",
       " 4                 2               2  TypeScript          True      True   \n",
       " \n",
       "   license_name  \n",
       " 0          NaN  \n",
       " 1          NaN  \n",
       " 2          NaN  \n",
       " 3          mit  \n",
       " 4          mit  )"
      ]
     },
     "execution_count": 24,
     "metadata": {},
     "output_type": "execute_result"
    }
   ],
   "source": [
    "\n",
    "import pandas as pd\n",
    "import numpy as np\n",
    "from scipy.stats import pearsonr\n",
    "from sklearn.linear_model import LinearRegression\n",
    "import matplotlib.pyplot as plt\n",
    "import seaborn as sns\n",
    "\n",
    "# Load the datasets\n",
    "users = pd.read_csv(\"users.csv\")\n",
    "repos = pd.read_csv(\"repositories.csv\")\n",
    "users.head(), repos.head()\n"
   ]
  },
  {
   "cell_type": "code",
   "execution_count": 25,
   "id": "21203b62",
   "metadata": {},
   "outputs": [
    {
     "data": {
      "text/plain": [
       "'midudev,ai,raysan5,vfarcic,spite'"
      ]
     },
     "execution_count": 25,
     "metadata": {},
     "output_type": "execute_result"
    }
   ],
   "source": [
    "\n",
    "# Q1: Who are the top 5 users in Barcelona with the highest number of followers?\n",
    "top_5_users = users.nlargest(5, 'followers')[['login']]\n",
    "top_5_users_list = \",\".join(top_5_users['login'].tolist())\n",
    "top_5_users_list\n"
   ]
  },
  {
   "cell_type": "code",
   "execution_count": 26,
   "id": "c9e568ef",
   "metadata": {},
   "outputs": [
    {
     "data": {
      "text/plain": [
       "'oleganza,gravityblast,fesplugas,fxn,pauek'"
      ]
     },
     "execution_count": 26,
     "metadata": {},
     "output_type": "execute_result"
    }
   ],
   "source": [
    "\n",
    "# Q2: Who are the 5 earliest registered GitHub users in Barcelona?\n",
    "# Convert 'created_at' column to datetime\n",
    "users['created_at'] = pd.to_datetime(users['created_at'], errors='coerce')\n",
    "\n",
    "# Q2: Who are the 5 earliest registered GitHub users in Barcelona?\n",
    "earliest_users = users.nsmallest(5, 'created_at')[['login']]\n",
    "earliest_users_list = \",\".join(earliest_users['login'].tolist())\n",
    "earliest_users_list\n"
   ]
  },
  {
   "cell_type": "code",
   "execution_count": 27,
   "id": "3cfa11d6",
   "metadata": {},
   "outputs": [
    {
     "data": {
      "text/plain": [
       "'mit,apache-2.0,other'"
      ]
     },
     "execution_count": 27,
     "metadata": {},
     "output_type": "execute_result"
    }
   ],
   "source": [
    "\n",
    "# Q3: What are the 3 most popular licenses among these users?\n",
    "top_licenses = repos['license_name'].value_counts().head(3).index.tolist()\n",
    "top_licenses_list = \",\".join(top_licenses)\n",
    "top_licenses_list\n"
   ]
  },
  {
   "cell_type": "code",
   "execution_count": 28,
   "id": "4de40afc",
   "metadata": {},
   "outputs": [
    {
     "data": {
      "text/plain": [
       "'FREELANCE'"
      ]
     },
     "execution_count": 28,
     "metadata": {},
     "output_type": "execute_result"
    }
   ],
   "source": [
    "\n",
    "# Q4: Which company do the majority of these developers work at?\n",
    "majority_company = users['company'].mode().iloc[0]\n",
    "majority_company\n"
   ]
  },
  {
   "cell_type": "code",
   "execution_count": 29,
   "id": "7d2e0956",
   "metadata": {},
   "outputs": [
    {
     "data": {
      "text/plain": [
       "'JavaScript'"
      ]
     },
     "execution_count": 29,
     "metadata": {},
     "output_type": "execute_result"
    }
   ],
   "source": [
    "\n",
    "# Q5: Which programming language is most popular among these users?\n",
    "most_popular_language = repos['language'].mode().iloc[0]\n",
    "most_popular_language\n"
   ]
  },
  {
   "cell_type": "code",
   "execution_count": 30,
   "id": "96de3a38",
   "metadata": {},
   "outputs": [
    {
     "data": {
      "text/plain": [
       "'Python'"
      ]
     },
     "execution_count": 30,
     "metadata": {},
     "output_type": "execute_result"
    }
   ],
   "source": [
    "\n",
    "# Q6: Which programming language is the second most popular among users who joined after 2020?\n",
    "users_post_2020 = users.query('created_at > \"2020-01-01 00:00:00+00:00\"')\n",
    "repos_2020 = repos[repos['login'].isin(users_post_2020['login'].tolist())]\n",
    "repos_2020['language'].value_counts().index[1]\n"
   ]
  },
  {
   "cell_type": "code",
   "execution_count": 31,
   "id": "5797d14f",
   "metadata": {},
   "outputs": [
    {
     "data": {
      "text/plain": [
       "'Vim Script'"
      ]
     },
     "execution_count": 31,
     "metadata": {},
     "output_type": "execute_result"
    }
   ],
   "source": [
    "\n",
    "# Q7: Which language has the highest average number of stars per repository?\n",
    "highest_avg_stars_language = repos.groupby('language')['stargazers_count'].mean().idxmax()\n",
    "highest_avg_stars_language\n"
   ]
  },
  {
   "cell_type": "code",
   "execution_count": 32,
   "id": "2b0be38a",
   "metadata": {},
   "outputs": [
    {
     "data": {
      "text/plain": [
       "'midudev,vfarcic,spite,amix,cfenollosa'"
      ]
     },
     "execution_count": 32,
     "metadata": {},
     "output_type": "execute_result"
    }
   ],
   "source": [
    "\n",
    "# Q8: Define leader_strength and find the top 5 users\n",
    "users['leader_strength'] = users['followers'] / (1 + users['following'])\n",
    "top_leader_strength = users.nlargest(5, 'leader_strength')['login'].tolist()\n",
    "\",\".join(top_leader_strength)\n"
   ]
  },
  {
   "cell_type": "code",
   "execution_count": 33,
   "id": "f565485a",
   "metadata": {},
   "outputs": [
    {
     "data": {
      "text/plain": [
       "0.071"
      ]
     },
     "execution_count": 33,
     "metadata": {},
     "output_type": "execute_result"
    }
   ],
   "source": [
    "\n",
    "# Q9: Correlation between the number of followers and the number of public repositories\n",
    "correlation, _ = pearsonr(users['followers'], users['public_repos'])\n",
    "round(correlation, 3)\n"
   ]
  },
  {
   "cell_type": "code",
   "execution_count": 34,
   "id": "f2a4374c",
   "metadata": {},
   "outputs": [
    {
     "data": {
      "text/plain": [
       "1.031"
      ]
     },
     "execution_count": 34,
     "metadata": {},
     "output_type": "execute_result"
    }
   ],
   "source": [
    "\n",
    "# Q10: Linear regression slope of followers on repos\n",
    "X = users[['public_repos']]\n",
    "y = users['followers']\n",
    "reg = LinearRegression().fit(X, y)\n",
    "slope = round(reg.coef_[0], 3)\n",
    "slope\n"
   ]
  },
  {
   "cell_type": "code",
   "execution_count": 35,
   "id": "9ddaf276",
   "metadata": {},
   "outputs": [
    {
     "name": "stdout",
     "output_type": "stream",
     "text": [
      "                            OLS Regression Results                            \n",
      "==============================================================================\n",
      "Dep. Variable:              followers   R-squared:                       0.005\n",
      "Model:                            OLS   Adj. R-squared:                  0.002\n",
      "Method:                 Least Squares   F-statistic:                     1.709\n",
      "Date:                Wed, 30 Oct 2024   Prob (F-statistic):              0.192\n",
      "Time:                        21:17:38   Log-Likelihood:                -2972.9\n",
      "No. Observations:                 337   AIC:                             5950.\n",
      "Df Residuals:                     335   BIC:                             5957.\n",
      "Df Model:                           1                                         \n",
      "Covariance Type:            nonrobust                                         \n",
      "================================================================================\n",
      "                   coef    std err          t      P>|t|      [0.025      0.975]\n",
      "--------------------------------------------------------------------------------\n",
      "const          340.2778    111.583      3.050      0.002     120.785     559.770\n",
      "public_repos     1.0311      0.789      1.307      0.192      -0.520       2.583\n",
      "==============================================================================\n",
      "Omnibus:                      716.724   Durbin-Watson:                   0.444\n",
      "Prob(Omnibus):                  0.000   Jarque-Bera (JB):           836155.101\n",
      "Skew:                          14.846   Prob(JB):                         0.00\n",
      "Kurtosis:                     245.212   Cond. No.                         176.\n",
      "==============================================================================\n",
      "\n",
      "Notes:\n",
      "[1] Standard Errors assume that the covariance matrix of the errors is correctly specified.\n",
      "Estimated additional followers per additional public repository: 1.031\n"
     ]
    }
   ],
   "source": [
    "import statsmodels.api as sm\n",
    "\n",
    "# Prepare the data\n",
    "X = users['public_repos']  # Independent variable: number of public repositories\n",
    "y = users['followers']     # Dependent variable: number of followers\n",
    "\n",
    "# Add a constant to the independent variable (for the intercept)\n",
    "X = sm.add_constant(X)\n",
    "\n",
    "# Perform the regression\n",
    "model = sm.OLS(y, X).fit()\n",
    "\n",
    "# Print the summary of the regression\n",
    "print(model.summary())\n",
    "\n",
    "# Get the coefficient for 'public_repos'\n",
    "repo_coefficient = model.params['public_repos']\n",
    "print(f\"Estimated additional followers per additional public repository: {repo_coefficient:.3f}\")"
   ]
  },
  {
   "cell_type": "code",
   "execution_count": 36,
   "id": "dc19eb7d",
   "metadata": {},
   "outputs": [
    {
     "data": {
      "text/plain": [
       "'0.317'"
      ]
     },
     "execution_count": 36,
     "metadata": {},
     "output_type": "execute_result"
    }
   ],
   "source": [
    "has_projects = repos['has_projects'].astype(bool)\n",
    "has_wiki = repos['has_wiki'].astype(bool)\n",
    "\n",
    "f\"{has_projects.corr(has_wiki):.3f}\""
   ]
  },
  {
   "cell_type": "code",
   "execution_count": 37,
   "id": "c6ea5cca",
   "metadata": {},
   "outputs": [
    {
     "data": {
      "text/plain": [
       "'294.668'"
      ]
     },
     "execution_count": 37,
     "metadata": {},
     "output_type": "execute_result"
    }
   ],
   "source": [
    "\n",
    "# Q12: Average following difference between hireable and non-hireable users\n",
    "hireable_following = users[users['hireable'] == True]['following'].mean()\n",
    "non_hireable_following = users[users['hireable'] != True]['following'].mean()\n",
    "f\"{hireable_following - non_hireable_following:.3f}\"\n"
   ]
  },
  {
   "cell_type": "code",
   "execution_count": 38,
   "id": "7ac0abbe",
   "metadata": {},
   "outputs": [
    {
     "ename": "NameError",
     "evalue": "name 'linregress' is not defined",
     "output_type": "error",
     "traceback": [
      "\u001b[1;31m---------------------------------------------------------------------------\u001b[0m",
      "\u001b[1;31mNameError\u001b[0m                                 Traceback (most recent call last)",
      "Cell \u001b[1;32mIn[38], line 4\u001b[0m\n\u001b[0;32m      2\u001b[0m users_with_bio \u001b[38;5;241m=\u001b[39m users\u001b[38;5;241m.\u001b[39mloc[users[\u001b[38;5;124m'\u001b[39m\u001b[38;5;124mbio\u001b[39m\u001b[38;5;124m'\u001b[39m]\u001b[38;5;241m.\u001b[39mnotna(), :]\u001b[38;5;241m.\u001b[39mcopy()\u001b[38;5;241m.\u001b[39mreset_index(drop\u001b[38;5;241m=\u001b[39m\u001b[38;5;28;01mTrue\u001b[39;00m, inplace\u001b[38;5;241m=\u001b[39m\u001b[38;5;28;01mFalse\u001b[39;00m)\n\u001b[0;32m      3\u001b[0m users_with_bio[\u001b[38;5;124m'\u001b[39m\u001b[38;5;124mbio_length\u001b[39m\u001b[38;5;124m'\u001b[39m] \u001b[38;5;241m=\u001b[39m users_with_bio[\u001b[38;5;124m'\u001b[39m\u001b[38;5;124mbio\u001b[39m\u001b[38;5;124m'\u001b[39m]\u001b[38;5;241m.\u001b[39mstr\u001b[38;5;241m.\u001b[39mstrip()\u001b[38;5;241m.\u001b[39mstr\u001b[38;5;241m.\u001b[39msplit()\u001b[38;5;241m.\u001b[39mstr\u001b[38;5;241m.\u001b[39mlen()\n\u001b[1;32m----> 4\u001b[0m \u001b[38;5;124mf\u001b[39m\u001b[38;5;124m\"\u001b[39m\u001b[38;5;132;01m{\u001b[39;00m\u001b[43mlinregress\u001b[49m(users_with_bio[\u001b[38;5;124m'\u001b[39m\u001b[38;5;124mbio_length\u001b[39m\u001b[38;5;124m'\u001b[39m],\u001b[38;5;250m \u001b[39musers_with_bio[\u001b[38;5;124m'\u001b[39m\u001b[38;5;124mfollowers\u001b[39m\u001b[38;5;124m'\u001b[39m])\u001b[38;5;241m.\u001b[39mslope\u001b[38;5;132;01m:\u001b[39;00m\u001b[38;5;124m.3f\u001b[39m\u001b[38;5;132;01m}\u001b[39;00m\u001b[38;5;124m\"\u001b[39m\n",
      "\u001b[1;31mNameError\u001b[0m: name 'linregress' is not defined"
     ]
    }
   ],
   "source": [
    "\n",
    "# Q13: Correlation of bio length with followers\n",
    "users_with_bio = users.loc[users['bio'].notna(), :].copy().reset_index(drop=True, inplace=False)\n",
    "users_with_bio['bio_length'] = users_with_bio['bio'].str.strip().str.split().str.len()\n",
    "f\"{linregress(users_with_bio['bio_length'], users_with_bio['followers']).slope:.3f}\"\n"
   ]
  },
  {
   "cell_type": "code",
   "execution_count": 39,
   "id": "ad3cb54c",
   "metadata": {},
   "outputs": [
    {
     "name": "stdout",
     "output_type": "stream",
     "text": [
      "nilportugues,kinow,ajsb85,vfarcic,wlsf82\n"
     ]
    }
   ],
   "source": [
    "\n",
    "# Q14: Most repositories created on weekends\n",
    "import csv\n",
    "from collections import Counter\n",
    "from datetime import datetime\n",
    "\n",
    "weekend_repo_counts = Counter()\n",
    "\n",
    "with open('repositories.csv', 'r', encoding='utf-8') as file:\n",
    "    reader = csv.DictReader(file)\n",
    "    \n",
    "    for row in reader:\n",
    "        created_at = row.get('created_at', '')\n",
    "        if created_at:\n",
    "            created_date = datetime.fromisoformat(created_at[:-1])  \n",
    "            \n",
    "            if created_date.weekday() in [5, 6]:\n",
    "                user_login = row['login']\n",
    "                weekend_repo_counts[user_login] += 1  \n",
    "\n",
    "top_users = weekend_repo_counts.most_common(5)\n",
    "\n",
    "top_logins = [user[0] for user in top_users]\n",
    "\n",
    "print(','.join(top_logins))\n"
   ]
  },
  {
   "cell_type": "code",
   "execution_count": 40,
   "id": "07150ca4",
   "metadata": {},
   "outputs": [
    {
     "data": {
      "text/plain": [
       "'0.098'"
      ]
     },
     "execution_count": 40,
     "metadata": {},
     "output_type": "execute_result"
    }
   ],
   "source": [
    "\n",
    "# Q15: Difference in email sharing between hireable and non-hireable users\n",
    "hireable_true = users[users['hireable'] == True]\n",
    "fraction_hireable_true = hireable_true['email'].notna().mean()\n",
    "\n",
    "hireable_other = users[users['hireable'] != True]\n",
    "fraction_hireable_other = hireable_other['email'].notna().mean()\n",
    "\n",
    "f\"{(fraction_hireable_true - fraction_hireable_other):.3f}\"\n"
   ]
  },
  {
   "cell_type": "code",
   "execution_count": 41,
   "id": "2d3ca813",
   "metadata": {},
   "outputs": [
    {
     "name": "stdout",
     "output_type": "stream",
     "text": [
      "Martínez,Ortiz\n"
     ]
    }
   ],
   "source": [
    "\n",
    "# Q16: Most common surname among users\n",
    "new_users = users[users['name'].notna()].copy()\n",
    "new_users['surname'] = new_users['name'].str.split().str[-1].str.strip()\n",
    "surname_counts = new_users['surname'].value_counts()\n",
    "max_count = surname_counts.max()\n",
    "common_surnames = surname_counts[surname_counts == max_count].index.tolist()\n",
    "common_surnames.sort()\n",
    "print(','.join(common_surnames))\n"
   ]
  }
 ],
 "metadata": {
  "kernelspec": {
   "display_name": "base",
   "language": "python",
   "name": "python3"
  },
  "language_info": {
   "codemirror_mode": {
    "name": "ipython",
    "version": 3
   },
   "file_extension": ".py",
   "mimetype": "text/x-python",
   "name": "python",
   "nbconvert_exporter": "python",
   "pygments_lexer": "ipython3",
   "version": "3.12.4"
  }
 },
 "nbformat": 4,
 "nbformat_minor": 5
}
